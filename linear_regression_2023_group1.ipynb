{
 "cells": [
  {
   "cell_type": "markdown",
   "metadata": {},
   "source": [
    "# Linear Regression\n"
   ]
  },
  {
   "cell_type": "code",
   "execution_count": 1,
   "metadata": {},
   "outputs": [],
   "source": [
    "# importing the required modules\n",
    "import numpy as np \n",
    "import matplotlib.pyplot as plt\n",
    "\n",
    "# to get matplot figures render correctly in the notebook use:\n",
    "%matplotlib inline "
   ]
  },
  {
   "cell_type": "markdown",
   "metadata": {},
   "source": [
    "## Loading and Inspecting the Data"
   ]
  },
  {
   "cell_type": "markdown",
   "metadata": {},
   "source": [
    "The first step in all machine learning problems is to load and inspect the data. First, let's load the data.   \n",
    "The datafile `ex1data1.txt` is a comma-separated file that contains data of 97 cities on the population size and the profit. The file contains two columns:\n",
    "- column 1 yields the Population of a City in 10,000s\n",
    "- column 2 yields the corresponding Profit in $10,000s\n",
    "\n",
    "\n",
    "\n",
    "Use the code snippet below to load the data into a 2D numpy array `data`:"
   ]
  },
  {
   "cell_type": "code",
   "execution_count": 2,
   "metadata": {},
   "outputs": [],
   "source": [
    "FILENAME = 'ex1data1.txt'  # points to the datafolder; either a relative or absolute path\n",
    "DELIMITER = ','  # we use a lot of csv or txt files where the data is separated by a comma\n",
    "\n",
    "data = np.loadtxt(FILENAME, delimiter=DELIMITER)"
   ]
  },
  {
   "cell_type": "markdown",
   "metadata": {},
   "source": [
    "\n",
    "Inspect the data by e.g. printing the shape of `data` and the first couple of rows"
   ]
  },
  {
   "cell_type": "code",
   "execution_count": 3,
   "metadata": {},
   "outputs": [
    {
     "name": "stdout",
     "output_type": "stream",
     "text": [
      "(97, 2)\n"
     ]
    }
   ],
   "source": [
    "# check the shape of data by printing the nr.rows and nr.columns\n",
    "print(data.shape)\n"
   ]
  },
  {
   "cell_type": "code",
   "execution_count": 4,
   "metadata": {},
   "outputs": [
    {
     "name": "stdout",
     "output_type": "stream",
     "text": [
      "[[ 6.1101 17.592 ]\n",
      " [ 5.5277  9.1302]\n",
      " [ 8.5186 13.662 ]\n",
      " [ 7.0032 11.854 ]\n",
      " [ 5.8598  6.8233]]\n",
      "[[ 5.8707   7.2029 ]\n",
      " [ 5.3054   1.9869 ]\n",
      " [ 8.2934   0.14454]\n",
      " [13.394    9.0551 ]\n",
      " [ 5.4369   0.61705]]\n"
     ]
    }
   ],
   "source": [
    "# print the first and last couple of rows\n",
    "print(data[:5])\n",
    "print(data[-5:])\n",
    "\n"
   ]
  },
  {
   "cell_type": "markdown",
   "metadata": {},
   "source": [
    "It is always good to create a plot to have a visulation of the data. In the next block of code plot the data, where you plot the population size on the x-axis and the profit on the y-axis."
   ]
  },
  {
   "cell_type": "code",
   "execution_count": 5,
   "metadata": {},
   "outputs": [
    {
     "data": {
      "text/plain": [
       "'YOUR CODE GOES HERE '"
      ]
     },
     "execution_count": 5,
     "metadata": {},
     "output_type": "execute_result"
    },
    {
     "data": {
      "image/png": "[encoded data removed]",
      "text/plain": [
       "<Figure size 640x480 with 1 Axes>"
      ]
     },
     "metadata": {},
     "output_type": "display_data"
    }
   ],
   "source": [
    "x = data[:, 0]\n",
    "y = data[:, 1]\n",
    "\n",
    "# create the scatter plot\n",
    "plt.scatter(x, y, marker='.')\n",
    "\n",
    "'''YOUR CODE GOES HERE '''\n"
   ]
  },
  {
   "cell_type": "markdown",
   "metadata": {},
   "source": [
    "## Defining the model"
   ]
  },
  {
   "cell_type": "markdown",
   "metadata": {},
   "source": [
    "This notebook is about linear regression. The corresponding model is given by (lecture notes eq. 2.6):\n",
    "$$  \\mathbf{\\hat{y}} =  \\mathbf{X}  \\boldsymbol{\\theta}  $$ \n",
    "with $\\mathbf{X}$ the feature matrix , $\\mathbf{\\hat{y}}$ the predicted label vector and $\\boldsymbol{\\theta}$ the weight vector. \n",
    "\n",
    "The weight vector is found by minimizing the *loss* $L$. The loss is given by (lecture notes eq. 2.9):\n",
    "$$  L = \\frac{1}{M} \\frac{1}{2} \\left \\| \\mathbf{X}  \\boldsymbol{\\theta} - \\textbf y \\right \\|^2 $$\n"
   ]
  },
  {
   "cell_type": "markdown",
   "metadata": {},
   "source": [
    "#### Create the feature matrix and label vector"
   ]
  },
  {
   "cell_type": "markdown",
   "metadata": {},
   "source": [
    "The feature matrix is represented by a 2D numpy array `X` composed of a column filled with ones (the bias) and column(s) with the feature(s). Also we need to define the label vector y as a 2D numpy array `y`."
   ]
  },
  {
   "cell_type": "code",
   "execution_count": 6,
   "metadata": {},
   "outputs": [
    {
     "name": "stdout",
     "output_type": "stream",
     "text": [
      "[[ 1.      6.1101]\n",
      " [ 1.      5.5277]\n",
      " [ 1.      8.5186]\n",
      " [ 1.      7.0032]\n",
      " [ 1.      5.8598]\n",
      " [ 1.      8.3829]\n",
      " [ 1.      7.4764]\n",
      " [ 1.      8.5781]\n",
      " [ 1.      6.4862]\n",
      " [ 1.      5.0546]\n",
      " [ 1.      5.7107]\n",
      " [ 1.     14.164 ]\n",
      " [ 1.      5.734 ]\n",
      " [ 1.      8.4084]\n",
      " [ 1.      5.6407]\n",
      " [ 1.      5.3794]\n",
      " [ 1.      6.3654]\n",
      " [ 1.      5.1301]\n",
      " [ 1.      6.4296]\n",
      " [ 1.      7.0708]\n",
      " [ 1.      6.1891]\n",
      " [ 1.     20.27  ]\n",
      " [ 1.      5.4901]\n",
      " [ 1.      6.3261]\n",
      " [ 1.      5.5649]\n",
      " [ 1.     18.945 ]\n",
      " [ 1.     12.828 ]\n",
      " [ 1.     10.957 ]\n",
      " [ 1.     13.176 ]\n",
      " [ 1.     22.203 ]\n",
      " [ 1.      5.2524]\n",
      " [ 1.      6.5894]\n",
      " [ 1.      9.2482]\n",
      " [ 1.      5.8918]\n",
      " [ 1.      8.2111]\n",
      " [ 1.      7.9334]\n",
      " [ 1.      8.0959]\n",
      " [ 1.      5.6063]\n",
      " [ 1.     12.836 ]\n",
      " [ 1.      6.3534]\n",
      " [ 1.      5.4069]\n",
      " [ 1.      6.8825]\n",
      " [ 1.     11.708 ]\n",
      " [ 1.      5.7737]\n",
      " [ 1.      7.8247]\n",
      " [ 1.      7.0931]\n",
      " [ 1.      5.0702]\n",
      " [ 1.      5.8014]\n",
      " [ 1.     11.7   ]\n",
      " [ 1.      5.5416]\n",
      " [ 1.      7.5402]\n",
      " [ 1.      5.3077]\n",
      " [ 1.      7.4239]\n",
      " [ 1.      7.6031]\n",
      " [ 1.      6.3328]\n",
      " [ 1.      6.3589]\n",
      " [ 1.      6.2742]\n",
      " [ 1.      5.6397]\n",
      " [ 1.      9.3102]\n",
      " [ 1.      9.4536]\n",
      " [ 1.      8.8254]\n",
      " [ 1.      5.1793]\n",
      " [ 1.     21.279 ]\n",
      " [ 1.     14.908 ]\n",
      " [ 1.     18.959 ]\n",
      " [ 1.      7.2182]\n",
      " [ 1.      8.2951]\n",
      " [ 1.     10.236 ]\n",
      " [ 1.      5.4994]\n",
      " [ 1.     20.341 ]\n",
      " [ 1.     10.136 ]\n",
      " [ 1.      7.3345]\n",
      " [ 1.      6.0062]\n",
      " [ 1.      7.2259]\n",
      " [ 1.      5.0269]\n",
      " [ 1.      6.5479]\n",
      " [ 1.      7.5386]\n",
      " [ 1.      5.0365]\n",
      " [ 1.     10.274 ]\n",
      " [ 1.      5.1077]\n",
      " [ 1.      5.7292]\n",
      " [ 1.      5.1884]\n",
      " [ 1.      6.3557]\n",
      " [ 1.      9.7687]\n",
      " [ 1.      6.5159]\n",
      " [ 1.      8.5172]\n",
      " [ 1.      9.1802]\n",
      " [ 1.      6.002 ]\n",
      " [ 1.      5.5204]\n",
      " [ 1.      5.0594]\n",
      " [ 1.      5.7077]\n",
      " [ 1.      7.6366]\n",
      " [ 1.      5.8707]\n",
      " [ 1.      5.3054]\n",
      " [ 1.      8.2934]\n",
      " [ 1.     13.394 ]\n",
      " [ 1.      5.4369]]\n",
      "[[17.592  ]\n",
      " [ 9.1302 ]\n",
      " [13.662  ]\n",
      " [11.854  ]\n",
      " [ 6.8233 ]\n",
      " [11.886  ]\n",
      " [ 4.3483 ]\n",
      " [12.     ]\n",
      " [ 6.5987 ]\n",
      " [ 3.8166 ]\n",
      " [ 3.2522 ]\n",
      " [15.505  ]\n",
      " [ 3.1551 ]\n",
      " [ 7.2258 ]\n",
      " [ 0.71618]\n",
      " [ 3.5129 ]\n",
      " [ 5.3048 ]\n",
      " [ 0.56077]\n",
      " [ 3.6518 ]\n",
      " [ 5.3893 ]\n",
      " [ 3.1386 ]\n",
      " [21.767  ]\n",
      " [ 4.263  ]\n",
      " [ 5.1875 ]\n",
      " [ 3.0825 ]\n",
      " [22.638  ]\n",
      " [13.501  ]\n",
      " [ 7.0467 ]\n",
      " [14.692  ]\n",
      " [24.147  ]\n",
      " [-1.22   ]\n",
      " [ 5.9966 ]\n",
      " [12.134  ]\n",
      " [ 1.8495 ]\n",
      " [ 6.5426 ]\n",
      " [ 4.5623 ]\n",
      " [ 4.1164 ]\n",
      " [ 3.3928 ]\n",
      " [10.117  ]\n",
      " [ 5.4974 ]\n",
      " [ 0.55657]\n",
      " [ 3.9115 ]\n",
      " [ 5.3854 ]\n",
      " [ 2.4406 ]\n",
      " [ 6.7318 ]\n",
      " [ 1.0463 ]\n",
      " [ 5.1337 ]\n",
      " [ 1.844  ]\n",
      " [ 8.0043 ]\n",
      " [ 1.0179 ]\n",
      " [ 6.7504 ]\n",
      " [ 1.8396 ]\n",
      " [ 4.2885 ]\n",
      " [ 4.9981 ]\n",
      " [ 1.4233 ]\n",
      " [-1.4211 ]\n",
      " [ 2.4756 ]\n",
      " [ 4.6042 ]\n",
      " [ 3.9624 ]\n",
      " [ 5.4141 ]\n",
      " [ 5.1694 ]\n",
      " [-0.74279]\n",
      " [17.929  ]\n",
      " [12.054  ]\n",
      " [17.054  ]\n",
      " [ 4.8852 ]\n",
      " [ 5.7442 ]\n",
      " [ 7.7754 ]\n",
      " [ 1.0173 ]\n",
      " [20.992  ]\n",
      " [ 6.6799 ]\n",
      " [ 4.0259 ]\n",
      " [ 1.2784 ]\n",
      " [ 3.3411 ]\n",
      " [-2.6807 ]\n",
      " [ 0.29678]\n",
      " [ 3.8845 ]\n",
      " [ 5.7014 ]\n",
      " [ 6.7526 ]\n",
      " [ 2.0576 ]\n",
      " [ 0.47953]\n",
      " [ 0.20421]\n",
      " [ 0.67861]\n",
      " [ 7.5435 ]\n",
      " [ 5.3436 ]\n",
      " [ 4.2415 ]\n",
      " [ 6.7981 ]\n",
      " [ 0.92695]\n",
      " [ 0.152  ]\n",
      " [ 2.8214 ]\n",
      " [ 1.8451 ]\n",
      " [ 4.2959 ]\n",
      " [ 7.2029 ]\n",
      " [ 1.9869 ]\n",
      " [ 0.14454]\n",
      " [ 9.0551 ]\n",
      " [ 0.61705]]\n"
     ]
    }
   ],
   "source": [
    "# the number of samples M\n",
    "M = data.shape[0]\n",
    "\n",
    "# the number of features N (excluding the bias)\n",
    "N = 1\n",
    "\n",
    "# define the feature matrix as a (M x N+1) ndarray\n",
    "\n",
    "\n",
    "X = np.column_stack((np.ones(M),data[:,0]))\n",
    "\n",
    "print(X)\n",
    "\n",
    "# define the label vector as a (M x 1) ndarray\n",
    "y=data[:,1].reshape(-1,1)\n",
    "print(y)"
   ]
  },
  {
   "cell_type": "markdown",
   "metadata": {},
   "source": [
    "#### Implement the loss function\n",
    "Next, define a function that computes the loss given the feature matrix, the label vector and the weight vector.\n",
    "\n",
    "function | description\n",
    "----|----\n",
    "`compute_loss(X, y, theta)` | This function takes the feature matrix `X`, label vector `y` and the weight vector `theta` and returns the loss\n"
   ]
  },
  {
   "cell_type": "code",
   "execution_count": 7,
   "metadata": {},
   "outputs": [],
   "source": [
    "def compute_loss(X, y, theta):\n",
    "    \"\"\"\n",
    "    computes the loss of a linear regression model\n",
    "\n",
    "    Parameters\n",
    "    ----------\n",
    "    X : (M x N+1) ndarray (with M the number of samples and N the number of features excluding the bias)\n",
    "        The feature matrix including the bias in the first column\n",
    "    y : (M x 1) ndarray\n",
    "        label vector\n",
    "    theta : (N+1 x 1) ndarray\n",
    "        The weight vector inlcuding the bias\n",
    "\n",
    "    Returns\n",
    "    -------\n",
    "    loss : float\n",
    "        The loss\n",
    "\n",
    "    \"\"\"\n",
    "    \n",
    "    '''YOUR CODE GOES HERE '''\n",
    "    M= len(X)\n",
    "    \n",
    "    loss= 1/M * 1/2* np.linalg.norm(X@theta-y)\n",
    "    \n",
    "    return loss"
   ]
  },
  {
   "cell_type": "code",
   "execution_count": 8,
   "metadata": {},
   "outputs": [
    {
     "name": "stdout",
     "output_type": "stream",
     "text": [
      "0.23004392780178237\n"
     ]
    }
   ],
   "source": [
    "# test the function with some value for theta\n",
    "theta = np.array([1, 1]).reshape(-1,1)\n",
    "loss = compute_loss(X, y, theta)\n",
    "print(loss)"
   ]
  },
  {
   "cell_type": "markdown",
   "metadata": {},
   "source": [
    "## Train the Model"
   ]
  },
  {
   "cell_type": "markdown",
   "metadata": {},
   "source": [
    "The next step is to train the model. We use the gradient descent algortihm for this. The weight vector is updated according to:\n",
    "$$  \\boldsymbol{\\theta} \\rightarrow \\boldsymbol{\\theta} - \\eta \\frac{\\mathrm{d} L}{\\mathrm{d} \\boldsymbol{\\theta}} $$\n",
    "where $\\eta$ is a *hyperparameter* that allows to tune the rate of descent, and the gradient defined as (lecture notes eq. 2.10):\n",
    "\n",
    "$$ \\frac{\\mathrm{d} L}{\\mathrm{d} \\boldsymbol{\\theta}}  = \\frac{1}{M} \\mathbf{X}^T  \\left (  \\mathbf{X}  \\boldsymbol{\\theta} - \\textbf y \\right )     $$\n",
    "\n",
    "Therefore we need to implement the following functions:\n",
    "\n",
    "function | description\n",
    "--------|----\n",
    "`gradient(X, y, theta)` | This function takes the feature matrix `X`, label vector `y` and the weight vector `theta` and returns the gradient of the loss w.r.t. the weight(s)\n",
    "`train(X, y, theta, eta, num_iters)` | This function takes the feature matrix `X`, label vector `y`, the weight vector `theta`, hyperparameter `eta` and the number of iteration steps `num_iters`, and returns the weight vector the minimises the loss."
   ]
  },
  {
   "cell_type": "code",
   "execution_count": 9,
   "metadata": {},
   "outputs": [],
   "source": [
    "def gradient(X, y, theta):\n",
    "    \"\"\"\n",
    "    computes the gradient of a linear regression model\n",
    "\n",
    "    Parameters\n",
    "    ----------\n",
    "    X : (M x N+1) ndarray (with M the number of samples and N the number of features excluding the bias)\n",
    "        The feature matrix including the bias in the first column\n",
    "    y : (M x 1) ndarray\n",
    "        label vector\n",
    "    theta : (N+1 x 1) ndarray\n",
    "        The weight vector inlcuding the bias\n",
    "\n",
    "    Returns\n",
    "    -------\n",
    "    grad : (N+1 x 1) ndarray\n",
    "        The gradient of the loss w.r.t the weight vector theta\n",
    "\n",
    "    \"\"\"\n",
    "    \n",
    "    '''YOUR CODE GOES HERE '''\n",
    "    M = len(X)\n",
    "    grad= 1/M* np.transpose(X)@(X@theta-y)\n",
    "    \n",
    "    return grad"
   ]
  },
  {
   "cell_type": "code",
   "execution_count": 10,
   "metadata": {},
   "outputs": [
    {
     "name": "stdout",
     "output_type": "stream",
     "text": [
      "[[ 3.32066495]\n",
      " [24.23489308]]\n"
     ]
    }
   ],
   "source": [
    "# test the function for some value of theta\n",
    "theta = np.array([1, 1]).reshape(-1,1)\n",
    "grad = gradient(X, y, theta)\n",
    "print(grad)"
   ]
  },
  {
   "cell_type": "markdown",
   "metadata": {},
   "source": [
    "Next, define the function `train()` that implements the gradient descent algorithm."
   ]
  },
  {
   "cell_type": "code",
   "execution_count": 11,
   "metadata": {},
   "outputs": [],
   "source": [
    "def train(X, y, theta, eta = 0.01, num_iters = 5500):\n",
    "    \"\"\"\n",
    "    Implements the gradient descent algorithm for a linear regression model\n",
    "\n",
    "    Parameters\n",
    "    ----------\n",
    "    X : (M x N+1) ndarray (with M the number of samples and N the number of features excluding the bias)\n",
    "        The feature matrix including the bias in the first column\n",
    "    y : (M x 1) ndarray\n",
    "        label vector\n",
    "    theta : (N+1 x 1) ndarray\n",
    "        The weight vector inlcuding the bias\n",
    "    eta : float, optional\n",
    "        The rate. The default is 0.01.\n",
    "    num_iters : int, optional\n",
    "        Number of iterations that is performed. The default is 5500.\n",
    "\n",
    "    Returns\n",
    "    -------\n",
    "    theta : (N+1 x 1) ndarray\n",
    "        The optimised weight vector    \n",
    "    loss : (num_iters,) ndarray\n",
    "        The loss at each iteration\n",
    "    \"\"\"\n",
    "    \n",
    "    '''YOUR CODE GOES HERE '''\n",
    "    loss=[]\n",
    "    theta1=[]\n",
    "    for i in range(0,num_iters):\n",
    "        theta= theta- eta*gradient(X,y,theta)\n",
    "        oneLoss = compute_loss(X, y, theta)\n",
    "        loss.append(oneLoss)\n",
    "        #theta1.append(theta)\n",
    "\n",
    "    return (theta, loss)"
   ]
  },
  {
   "cell_type": "markdown",
   "metadata": {},
   "source": [
    "We can now train the model."
   ]
  },
  {
   "cell_type": "code",
   "execution_count": 12,
   "metadata": {},
   "outputs": [
    {
     "name": "stdout",
     "output_type": "stream",
     "text": [
      "weigths: [[-3.89554233]\n",
      " [ 1.19300968]]\n"
     ]
    }
   ],
   "source": [
    "# intialize theta to some value\n",
    "theta =  np.array([1, 1]).reshape(-1,1)\n",
    "\n",
    "# train the model\n",
    "theta, loss = train(X,y, theta )\n",
    "\n",
    "\n",
    "# print the computed weight vector\n",
    "print(f'weigths: {theta}')"
   ]
  },
  {
   "cell_type": "code",
   "execution_count": 13,
   "metadata": {},
   "outputs": [
    {
     "data": {
      "text/plain": [
       "<matplotlib.collections.PathCollection at 0x1cc051bad60>"
      ]
     },
     "execution_count": 13,
     "metadata": {},
     "output_type": "execute_result"
    },
    {
     "data": {
      "image/png": "[encoded data removed]",
      "text/plain": [
       "<Figure size 640x480 with 1 Axes>"
      ]
     },
     "metadata": {},
     "output_type": "display_data"
    }
   ],
   "source": [
    "# create a plot of the loss versus the interation number\n",
    "\n",
    "'''YOUR CODE GOES HERE '''\n",
    "x= [i for i in range(len(loss))]\n",
    "plt.scatter(x,loss, marker='.')\n"
   ]
  },
  {
   "cell_type": "markdown",
   "metadata": {},
   "source": [
    "## Evaluate the model"
   ]
  },
  {
   "cell_type": "markdown",
   "metadata": {},
   "source": [
    "To evaluate the model, we need a function `predict(X, theta)` that predicts the label `y` given some new values of the features `X`. Implement this function below."
   ]
  },
  {
   "cell_type": "code",
   "execution_count": 14,
   "metadata": {},
   "outputs": [],
   "source": [
    "def predict(X, theta):\n",
    "    \"\"\"\n",
    "    Predicts the label y given features X for a linear regression model with weights theta\n",
    "\n",
    "    Parameters\n",
    "    ----------\n",
    "    X : (M x N+1) ndarray (with M the number of samples and N the number of features excluding the bias)\n",
    "        The feature matrix including the bias in the first column \n",
    "    theta : (N+1 x 1) ndarray\n",
    "        The weight vector inlcuding the bias\n",
    "\n",
    "    Returns\n",
    "    -------\n",
    "    y_pred : (M x 1) ndarray\n",
    "        The predicted labels    \n",
    "    \"\"\"       \n",
    "    \n",
    "    '''YOUR CODE GOES HERE '''\n",
    "    y_pred= X@theta\n",
    "    \n",
    "    return y_pred"
   ]
  },
  {
   "cell_type": "markdown",
   "metadata": {},
   "source": [
    "Test the function by plotting the original data, but now including a line-plot of the prediction of profits for population sizes covering the range from 50000 to 250000.\n"
   ]
  },
  {
   "cell_type": "code",
   "execution_count": 15,
   "metadata": {},
   "outputs": [
    {
     "data": {
      "text/plain": [
       "<matplotlib.collections.PathCollection at 0x1cc05236850>"
      ]
     },
     "execution_count": 15,
     "metadata": {},
     "output_type": "execute_result"
    },
    {
     "data": {
      "image/png": "[encoded data removed]",
      "text/plain": [
       "<Figure size 640x480 with 1 Axes>"
      ]
     },
     "metadata": {},
     "output_type": "display_data"
    }
   ],
   "source": [
    "# create a feature matrix X\n",
    "\n",
    "'''YOUR CODE GOES HERE '''\n",
    "X=  np.column_stack((np.ones(M),data[:,0]))\n",
    "\n",
    "# predict the corresponding labels\n",
    "\n",
    "'''YOUR CODE GOES HERE '''\n",
    "y_pred= predict(X,theta)\n",
    "\n",
    "# plot the original data and the predictions\n",
    "\n",
    "'''YOUR CODE GOES HERE '''\n",
    "x = data[:, 0]\n",
    "y = data[:, 1]\n",
    "\n",
    "# create the scatter plot\n",
    "plt.scatter(x, y, marker='.')\n",
    "plt.scatter(x,y_pred,marker='.')"
   ]
  },
  {
   "cell_type": "markdown",
   "metadata": {},
   "source": [
    "## Minimizing the loss by direct computation\n",
    "Rather than using the gradient descent method, linear regression allows to directly compute the weight that minimizes the loss. The expression is given by (see reader eq. 2.13):\n",
    "\n",
    "$$ \\boldsymbol{\\theta}  = \\left ( \\mathbf{X}^T  \\mathbf{X} \\right )^{-1} \\mathbf{X}^T \\textbf y $$\n",
    "\n",
    "The term $\\left ( \\mathbf{X}^T  \\mathbf{X} \\right )^{-1} \\mathbf{X}^T$ is the so-called pseude-inverse of $\\mathbf{X}$. \n",
    "\n",
    "In the cell below you define a function `solve(X, y)` that applies this equation to compute the weights.\n",
    "\n",
    "***TIP: computing the pseudo-inverse can be numerically instable resulting in high nummerical errors. Therefore you rather use the build-in numpy function `np.linalg.pinv(X)` to compute the pseudo-inverse rather than computing it following the eqaution above.***\n"
   ]
  },
  {
   "cell_type": "code",
   "execution_count": 16,
   "metadata": {},
   "outputs": [],
   "source": [
    "def solve(X, y):\n",
    "    \"\"\"\n",
    "    Computes the weights by direct computation \n",
    "\n",
    "    Parameters\n",
    "    ----------\n",
    "    X : (M x N+1) ndarray (with M the number of samples and N the number of features excluding the bias)\n",
    "        The feature matrix including the bias in the first column\n",
    "    y : (M x 1) ndarray\n",
    "        label vector\n",
    "    \n",
    "    Returns\n",
    "    -------\n",
    "    theta : (N+1 x 1) ndarray\n",
    "        The optimised weight vector    \n",
    "    \"\"\"\n",
    "    \n",
    "    '''YOUR CODE GOES HERE '''\n",
    "    theta= np.linalg.pinv(X)@y\n",
    "    \n",
    "    return theta"
   ]
  },
  {
   "cell_type": "code",
   "execution_count": 17,
   "metadata": {},
   "outputs": [
    {
     "name": "stdout",
     "output_type": "stream",
     "text": [
      "[-3.89578088  1.19303364]\n"
     ]
    }
   ],
   "source": [
    "# use the function solve() to compute weights and compare to \n",
    "# the results obtained by the gradient descent method\n",
    "\n",
    "theta = solve(X, y)\n",
    "print(theta)"
   ]
  },
  {
   "cell_type": "markdown",
   "metadata": {},
   "source": [
    "## Linear regression of \"non-linear\" data"
   ]
  },
  {
   "cell_type": "markdown",
   "metadata": {},
   "source": [
    "In the example above there was a linear relation between the label (profit) and the feature (population size). If this is not the case we can still use linear regression if we add features to the feature matrix. One way to do this is to add polynomial features. If we have only one orginal feature ($x_1$), then the polynomials that can be added as feature are:\n",
    "\n",
    "$$ 1, x_1, x_1^2, x_1^3, x_1^4, ... \\text{ etc}$$\n",
    "\n",
    "Have a look at the following data set `ex1data2.txt` that contains two columns where the first column is the feature and the second column is the label."
   ]
  },
  {
   "cell_type": "code",
   "execution_count": 18,
   "metadata": {},
   "outputs": [
    {
     "data": {
      "text/plain": [
       "<matplotlib.collections.PathCollection at 0x1cc04a4d970>"
      ]
     },
     "execution_count": 18,
     "metadata": {},
     "output_type": "execute_result"
    },
    {
     "data": {
      "image/png": "[encoded data removed]",
      "text/plain": [
       "<Figure size 640x480 with 1 Axes>"
      ]
     },
     "metadata": {},
     "output_type": "display_data"
    }
   ],
   "source": [
    "# load the data set and make a scatterplot of the data\n",
    "FILENAME = 'ex1data2.txt'  # points to the datafolder; either a relative or absolute path\n",
    "DELIMITER = ','  # we use a lot of csv or txt files where the data is separated by a comma\n",
    "\n",
    "data = np.loadtxt(FILENAME, delimiter=DELIMITER)\n",
    "\n",
    "# make a plot of the data\n",
    "\n",
    "'''YOUR CODE GOES HERE '''\n",
    "x = data[:, 0]\n",
    "y = data[:, 1]\n",
    "\n",
    "# create the scatter plot\n",
    "plt.scatter(x, y, marker='.')\n"
   ]
  },
  {
   "cell_type": "markdown",
   "metadata": {},
   "source": [
    "We will try to fit this data using polynomials. To this end we need to build a feature matrix `X` that contains the polynomials of the feature upto some degree.\n",
    "\n",
    "In the cell below you define a function `polynomials(x, degree)` that computes the feature matrix `X` upto the specified degree."
   ]
  },
  {
   "cell_type": "code",
   "execution_count": 19,
   "metadata": {},
   "outputs": [],
   "source": [
    "# write a function that computes the feature matrix X\n",
    "\n",
    "def polynomials(x, degree):\n",
    "    \"\"\"\n",
    "    Computes the feature matrix X composed of all polynomials of x upto order degree\n",
    "    and includes the bias\n",
    "    \n",
    "    Parameters\n",
    "    ----------\n",
    "    x : 1D ndarray of length M (with M the number of samples) \n",
    "        features  \n",
    "    degree : integer >= 0\n",
    "        the highest poly degree that is included\n",
    "\n",
    "    Returns\n",
    "    -------\n",
    "    X : (M x degree + 1) ndarray\n",
    "        The feature matrix    \n",
    "    \"\"\"       \n",
    "    \n",
    "    '''YOUR CODE GOES HERE '''\n",
    "    \n",
    "    X = np.column_stack((np.ones(len(x)),x))\n",
    "    for i in range(2,degree+1 ):\n",
    "        xdegree= [k**i for k in x]\n",
    "        X=np.column_stack((X,xdegree))\n",
    "    \n",
    "    return X\n",
    "    "
   ]
  },
  {
   "cell_type": "code",
   "execution_count": 20,
   "metadata": {
    "scrolled": true
   },
   "outputs": [
    {
     "name": "stdout",
     "output_type": "stream",
     "text": [
      "[0.         0.08333333 0.16666667 0.25       0.33333333 0.41666667\n",
      " 0.5        0.58333333 0.66666667 0.75       0.83333333 0.91666667\n",
      " 1.        ]\n",
      "[[1.00000000e+00 0.00000000e+00 0.00000000e+00 0.00000000e+00]\n",
      " [1.00000000e+00 8.33333333e-02 6.94444444e-03 5.78703704e-04]\n",
      " [1.00000000e+00 1.66666667e-01 2.77777778e-02 4.62962963e-03]\n",
      " [1.00000000e+00 2.50000000e-01 6.25000000e-02 1.56250000e-02]\n",
      " [1.00000000e+00 3.33333333e-01 1.11111111e-01 3.70370370e-02]\n",
      " [1.00000000e+00 4.16666667e-01 1.73611111e-01 7.23379630e-02]\n",
      " [1.00000000e+00 5.00000000e-01 2.50000000e-01 1.25000000e-01]\n",
      " [1.00000000e+00 5.83333333e-01 3.40277778e-01 1.98495370e-01]\n",
      " [1.00000000e+00 6.66666667e-01 4.44444444e-01 2.96296296e-01]\n",
      " [1.00000000e+00 7.50000000e-01 5.62500000e-01 4.21875000e-01]\n",
      " [1.00000000e+00 8.33333333e-01 6.94444444e-01 5.78703704e-01]\n",
      " [1.00000000e+00 9.16666667e-01 8.40277778e-01 7.70254630e-01]\n",
      " [1.00000000e+00 1.00000000e+00 1.00000000e+00 1.00000000e+00]]\n"
     ]
    }
   ],
   "source": [
    "# test the function by creating a feature matrix from the data upto degree 3\n",
    "X = polynomials(data[:,0], 3)\n",
    "print(x)\n",
    "\n",
    "print(X)"
   ]
  },
  {
   "cell_type": "markdown",
   "metadata": {},
   "source": [
    "The next step is to fit the data (use the function `solve()`). Trys different degrees."
   ]
  },
  {
   "cell_type": "code",
   "execution_count": 21,
   "metadata": {},
   "outputs": [
    {
     "name": "stdout",
     "output_type": "stream",
     "text": [
      "[ -0.03139373  10.28100383 -30.7982535   20.64163832]\n"
     ]
    },
    {
     "data": {
      "text/plain": [
       "<matplotlib.collections.PathCollection at 0x1cc0528a400>"
      ]
     },
     "execution_count": 21,
     "metadata": {},
     "output_type": "execute_result"
    },
    {
     "data": {
      "image/png": "[encoded data removed]",
      "text/plain": [
       "<Figure size 640x480 with 1 Axes>"
      ]
     },
     "metadata": {},
     "output_type": "display_data"
    }
   ],
   "source": [
    "# perform a fit and plot the result\n",
    "\n",
    "# prepare X and y\n",
    "'''YOUR CODE GOES HERE '''\n",
    "X = polynomials(data[:,0], 3)\n",
    "\n",
    "\n",
    "x=  data[:,0]\n",
    "y = data[:, 1]\n",
    "\n",
    "# compute the weights\n",
    "'''YOUR CODE GOES HERE '''\n",
    "theta = solve(X, y)\n",
    "print(theta)\n",
    "\n",
    "\n",
    "\n",
    "# Create a feature matrix X for the prediction\n",
    "'''YOUR CODE GOES HERE '''\n",
    "#X=  np.column_stack((np.ones(len(data[:,0])),data[:,0]))\n",
    "\n",
    "\n",
    "\n",
    "# predict the corresponding labels\n",
    "'''YOUR CODE GOES HERE '''\n",
    "y_pred= predict(X,theta)\n",
    "\n",
    "\n",
    "# plot the original data and the predictions\n",
    "'''YOUR CODE GOES HERE '''\n",
    "plt.scatter(x, y, marker='.')\n",
    "plt.scatter(x,y_pred,marker='.')\n",
    "\n"
   ]
  },
  {
   "cell_type": "markdown",
   "metadata": {},
   "source": [
    "As you have seen, the data is *under-fitted* if the number of degrees is too low. If the number of degrees is too high you will have *over-fitting*. The challenge is too have a good trade-off. \n",
    "\n",
    "In the next cell you will make a plot of the loss (y-axis) against the polynomial degree (x-axis)."
   ]
  },
  {
   "cell_type": "code",
   "execution_count": 28,
   "metadata": {},
   "outputs": [
    {
     "data": {
      "text/plain": [
       "<matplotlib.collections.PathCollection at 0x1cc064f36d0>"
      ]
     },
     "execution_count": 28,
     "metadata": {},
     "output_type": "execute_result"
    },
    {
     "data": {
      "image/png": "[encoded data removed]",
      "text/plain": [
       "<Figure size 640x480 with 1 Axes>"
      ]
     },
     "metadata": {},
     "output_type": "display_data"
    }
   ],
   "source": [
    "# make a plot of the loss as function of the polynomial degree\n",
    "\n",
    "'''YOUR CODE GOES HERE '''\n",
    "y = data[:, 1]\n",
    "degree =[ i for i in range(2,100)]\n",
    "lossarr=[]\n",
    "for i in range(2, 100 ):\n",
    "    X = polynomials(data[:,0], i)\n",
    "    theta = solve(X, y)\n",
    "    loss = compute_loss(X, y, theta)\n",
    "    lossarr.append(loss)\n",
    "plt.scatter(degree,lossarr , marker='.')"
   ]
  },
  {
   "cell_type": "markdown",
   "metadata": {},
   "source": [
    "The curve above suggest to use a high degree in order to make the losses as small as possible. However most likely that solution will not generalize well to another sample of the data (*over-fitting*). So next, you will use a test data set to check how well the model performs. The procedure is as follows:\n",
    "- use the train data set to fit the model\n",
    "- use the model to compute the loss of both train and test data sets\n",
    "- repeat for different degrees\n",
    "- finally make a plot of the loss for both train and test data sets as function of the degree\n",
    "- inspect the plot and determine the degree that gives the best results"
   ]
  },
  {
   "cell_type": "code",
   "execution_count": 33,
   "metadata": {},
   "outputs": [
    {
     "data": {
      "text/plain": [
       "<matplotlib.collections.PathCollection at 0x1cc06766190>"
      ]
     },
     "execution_count": 33,
     "metadata": {},
     "output_type": "execute_result"
    },
    {
     "data": {
      "image/png": "[encoded data removed]",
      "text/plain": [
       "<Figure size 640x480 with 1 Axes>"
      ]
     },
     "metadata": {},
     "output_type": "display_data"
    }
   ],
   "source": [
    "# carry out the procedure described above\n",
    "\n",
    "FILENAME_TRAIN = 'ex1data2.txt'  # points to the datafolder; either a relative or absolute path\n",
    "FILENAME_TEST = 'ex1data3.txt'\n",
    "DELIMITER = ','  # we use a lot of csv or txt files where the data is separated by a comma\n",
    "\n",
    "data_train = np.loadtxt(FILENAME_TRAIN, delimiter=DELIMITER)\n",
    "data_test = np.loadtxt(FILENAME_TEST, delimiter=DELIMITER)\n",
    "\n",
    "'''YOUR CODE GOES HERE '''\n",
    "y = data_train[:, 1]\n",
    "\n",
    "\n",
    "\n",
    "y_test= data_test[:, 1]\n",
    "\n",
    "loss_train=[]\n",
    "loss_test=[]\n",
    "degree=[i for i in range(2,50)]\n",
    "for i in range(2, 50 ):\n",
    "    X = polynomials(data_train[:,0], i)\n",
    "\n",
    "    theta = solve(X, y)\n",
    "    loss = compute_loss(X, y, theta)\n",
    "    X1= polynomials(data_train[:,0], i)\n",
    "    loss2 = compute_loss(X1, y_test, theta)\n",
    "\n",
    "    loss_train.append(loss)\n",
    "    loss_test.append(loss2)\n",
    "\n",
    "    \n",
    "plt.scatter(degree,loss_train,marker='.')\n",
    "plt.scatter(degree,loss_test,marker='*')"
   ]
  },
  {
   "cell_type": "markdown",
   "metadata": {},
   "source": [
    "## Regularisation\n",
    "The problem with the higher order polynomials in the example above can be reduced by using regularisation. The weights can be computed directly using (reader eq. 2.25):\n",
    "\n",
    "$$ \\boldsymbol\\theta = (\\mathbf{X}^T\\mathbf{X}+\\lambda  M \\mathbf{I})^{-1}\\mathbf{X}^T  \\textbf{y} $$\n",
    "\n",
    "Implement the function `solve_reg(X, y, labda)` in the cell below. Note that you cannot use the `np.linalg.pinv()` function. However this is not a problem in this case as the addition of the regularisation term causes the problem to be more numerically stable. "
   ]
  },
  {
   "cell_type": "code",
   "execution_count": 62,
   "metadata": {},
   "outputs": [],
   "source": [
    "def solve_reg(X, y, labda):\n",
    "    \"\"\"\n",
    "    Computes the weights by direct computation \n",
    "\n",
    "    Parameters\n",
    "    ----------\n",
    "    X : (M x N+1) ndarray (with M the number of samples and N the number of features excluding the bias)\n",
    "        The feature matrix including the bias in the first column\n",
    "    y : (M x 1) ndarray\n",
    "        label vector\n",
    "    labda: float\n",
    "        regularisation hyperparameter\n",
    "    \n",
    "    Returns\n",
    "    -------\n",
    "    theta : (N+1 x 1) ndarray\n",
    "        The optimised weight vector    \n",
    "    \"\"\"\n",
    "    \n",
    "    '''YOUR CODE GOES HERE '''\n",
    "    M=len(X)\n",
    "    XtX = np.dot(np.transpose(X), X)\n",
    "    regularizer = labda * M * np.identity(X.shape[1])\n",
    "    inverse = np.linalg.inv(XtX + regularizer)\n",
    "\n",
    "    # Calculate theta using the formula (X^T*X + lamda*M*I)^-1 * X^T*y\n",
    "    theta = np.dot(inverse, np.dot(X.T, y))\n",
    "\n",
    "    \n",
    "    return theta\n",
    "    "
   ]
  },
  {
   "cell_type": "code",
   "execution_count": 64,
   "metadata": {},
   "outputs": [
    {
     "data": {
      "text/plain": [
       "<matplotlib.collections.PathCollection at 0x1cc06e87c40>"
      ]
     },
     "execution_count": 64,
     "metadata": {},
     "output_type": "execute_result"
    },
    {
     "data": {
      "image/png": "[encoded data removed]",
      "text/plain": [
       "<Figure size 640x480 with 1 Axes>"
      ]
     },
     "metadata": {},
     "output_type": "display_data"
    }
   ],
   "source": [
    "# perform a fit and plot the result\n",
    "# include results for a few different labda's\n",
    "\n",
    "\n",
    "for labda in [0, 0.0001, 0.001, 0.1, 1]:\n",
    "    \n",
    "    # prepare X and y\n",
    "    '''YOUR CODE GOES HERE '''\n",
    "    x=  data_train[:,0]\n",
    "    M=len(x)\n",
    "    X = polynomials(data_train[:,0], 50)\n",
    "\n",
    "\n",
    "    x=  data_train[:,0]\n",
    "    y = data_train[:, 1]\n",
    "\n",
    "    # compute the weights\n",
    "\n",
    "    theta = solve_reg(X, y,labda)\n",
    "\n",
    "\n",
    "    \n",
    "\n",
    " \n",
    "    # Create a feature matrix X for the prediction\n",
    "    '''YOUR CODE GOES HERE '''\n",
    "    \n",
    "    # predict the corresponding labels\n",
    "    '''YOUR CODE GOES HERE '''\n",
    "    y_pred= predict(X,theta)\n",
    "\n",
    "    \n",
    "\n",
    "    # plot the predictions\n",
    "    '''YOUR CODE GOES HERE '''\n",
    "    plt.scatter(x,y_pred,marker=\"*\")\n",
    "\n",
    "# plot the original data \n",
    "'''YOUR CODE GOES HERE '''\n",
    "x=  data[:,0]\n",
    "y = data[:, 1]\n",
    "plt.scatter(x, y, marker =\"o\")"
   ]
  },
  {
   "cell_type": "markdown",
   "metadata": {},
   "source": [
    "Finally make a new plot of the loss versus the degree of both train and test data set, but now for a proper choice of the regularisation hyperparameter labda."
   ]
  },
  {
   "cell_type": "code",
   "execution_count": 74,
   "metadata": {},
   "outputs": [
    {
     "data": {
      "text/plain": [
       "<matplotlib.collections.PathCollection at 0x1cc0bf57af0>"
      ]
     },
     "execution_count": 74,
     "metadata": {},
     "output_type": "execute_result"
    },
    {
     "data": {
      "image/png": "[encoded data removed]",
      "text/plain": [
       "<Figure size 640x480 with 1 Axes>"
      ]
     },
     "metadata": {},
     "output_type": "display_data"
    }
   ],
   "source": [
    "# create a plot of the loss versus degree of both train and test data set\n",
    "\n",
    "'''YOUR CODE GOES HERE '''\n",
    "\n",
    "loss_train=[]\n",
    "loss_test=[]\n",
    "degree=[i for i in range(2,50)]\n",
    "for i in range(2, 50 ):\n",
    "    X = polynomials(data_train[:,0], i)\n",
    "\n",
    "    theta = solve_reg(X, y,0.001)\n",
    "    loss = compute_loss(X, y, theta)\n",
    "    X1= polynomials(data_train[:,0], i)\n",
    "    loss2 = compute_loss(X1, y_test, theta)\n",
    "\n",
    "    loss_train.append(loss)\n",
    "    loss_test.append(loss2)\n",
    "\n",
    "    \n",
    "plt.scatter(degree,loss_train,marker='.')\n",
    "plt.scatter(degree,loss_test,marker='*')\n",
    "\n"
   ]
  },
  {
   "cell_type": "markdown",
   "metadata": {},
   "source": [
    "## Using sklearn\n",
    "Next we will explore the linear_regression using the machine learning module *sklearn* (see this website for more info: https://scikit-learn.org/stable/).\n",
    "\n",
    "To keep it simple you will perform two fits on the data set 'ex1data2.txt' (the train data set used above).\n",
    "- using the sklearn class `LinearRegression`. \n",
    "- using the sklearn class `Ridge` for regularised regression.\n",
    "\n",
    "In both cases use a poly degree of 9 and plot the results in one single plot together with the data. \n",
    "\n",
    "Compare the results with previous solutions."
   ]
  },
  {
   "cell_type": "code",
   "execution_count": 72,
   "metadata": {},
   "outputs": [],
   "source": [
    "# import from the module the linear regression model\n",
    "from sklearn.linear_model import LinearRegression, Ridge"
   ]
  },
  {
   "cell_type": "code",
   "execution_count": 73,
   "metadata": {},
   "outputs": [
    {
     "data": {
      "text/plain": [
       "<matplotlib.collections.PathCollection at 0x1cc0bdae340>"
      ]
     },
     "execution_count": 73,
     "metadata": {},
     "output_type": "execute_result"
    },
    {
     "data": {
      "image/png": "[encoded data removed]",
      "text/plain": [
       "<Figure size 640x480 with 1 Axes>"
      ]
     },
     "metadata": {},
     "output_type": "display_data"
    }
   ],
   "source": [
    "\n",
    "degree = 9\n",
    "\n",
    "# create instances of the regression and of the regularised regression model\n",
    "reg = LinearRegression()\n",
    "reg_ridge = '''YOUR CODE GOES HERE '''\n",
    "\n",
    "# prepare the data train set\n",
    "'''YOUR CODE GOES HERE '''\n",
    "\n",
    "x=  data_train[:,0]\n",
    "y = data_train[:, 1]\n",
    "X=polynomials(x,degree)\n",
    "# train the models\n",
    "'''YOUR CODE GOES HERE '''\n",
    "reg.fit(X, y)\n",
    "\n",
    "\n",
    "# Create a feature matrix X for the prediction\n",
    "'''YOUR CODE GOES HERE '''\n",
    "X=polynomials(x,degree)\n",
    "\n",
    "# predict the corresponding labels\n",
    "'''YOUR CODE GOES HERE '''\n",
    "y_pred = reg.predict(X)\n",
    "\n",
    "\n",
    "# plot the predictions\n",
    "'''YOUR CODE GOES HERE '''\n",
    "plt.scatter(x,y_pred,marker=\"*\")\n",
    "\n",
    "# plot the original data \n",
    "'''YOUR CODE GOES HERE '''\n",
    "plt.scatter(x,y,marker=\"o\")"
   ]
  },
  {
   "cell_type": "markdown",
   "metadata": {},
   "source": [
    "## The end"
   ]
  }
 ],
 "metadata": {
  "kernelspec": {
   "display_name": "Python 3 (ipykernel)",
   "language": "python",
   "name": "python3"
  },
  "language_info": {
   "codemirror_mode": {
    "name": "ipython",
    "version": 3
   },
   "file_extension": ".py",
   "mimetype": "text/x-python",
   "name": "python",
   "nbconvert_exporter": "python",
   "pygments_lexer": "ipython3",
   "version": "3.9.13"
  }
 },
 "nbformat": 4,
 "nbformat_minor": 4
}
